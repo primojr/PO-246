{
 "cells": [
  {
   "cell_type": "code",
   "execution_count": 2,
   "id": "b0168ea0",
   "metadata": {},
   "outputs": [],
   "source": [
    "import numpy as np"
   ]
  },
  {
   "cell_type": "code",
   "execution_count": 11,
   "id": "3cb2c237",
   "metadata": {},
   "outputs": [],
   "source": [
    "# Generate points in moon distribution\n",
    "# from sklearn.datasets import make_moons\n",
    "# points,_ = make_moons(Npoints,noise=0.15)\n",
    "\n",
    "def generate_problem(no_facilities, no_psuppliers, ratio, no_clients = None):\n",
    "#     no_facilities = 300\n",
    "    facilities = np.random.rand(no_facilities, 2)\n",
    "    \n",
    "    if(no_clients is None):\n",
    "        no_clients = no_facilities - no_psuppliers\n",
    "    \n",
    "    choosen = np.random.choice(len(facilities), (no_psuppliers+no_clients), replace=False)\n",
    "    idx_psups = choosen[:no_psuppliers]\n",
    "    idx_clis = choosen[no_psuppliers:]\n",
    "    \n",
    "    psuppliers = facilities[idx_psups]\n",
    "    clients = facilities[idx_clis]\n",
    "                               \n",
    "    weights = np.random.randint(1,10, no_clients)\n",
    "    \n",
    "    fullclients = list(zip(idx_clis, weights))\n",
    "    \n",
    "    return (no_facilities, no_psuppliers, idx_psups, no_clients, fullclients, ratio, facilities)"
   ]
  },
  {
   "cell_type": "code",
   "execution_count": 4,
   "id": "34ff422c",
   "metadata": {},
   "outputs": [],
   "source": [
    "def printf(facilities, idx_psups, idx_clis):\n",
    "    '''\n",
    "    Plot the result\n",
    "    Input:\n",
    "        points: input points, Numpy array in shape of [N,2]\n",
    "        opt_sites: locations K optimal sites, Numpy array in shape of [K,2]\n",
    "        radius: the radius of circle\n",
    "    '''\n",
    "    from matplotlib import pyplot as plt\n",
    "    fig = plt.figure(figsize=(8,8))\n",
    "    \n",
    "    plt.scatter(facilities[:,0],facilities[:,1],c='C0')\n",
    "    psups = facilities[idx_psups]\n",
    "    plt.scatter(psups[:,0],psups[:,1], marker='x', c='C4')\n",
    "    \n",
    "    clis = facilities[[ci[0] for ci in idx_clis]]\n",
    "    ws = [ci[1] for ci in idx_clis]\n",
    "    \n",
    "#     plt.scatter(clis[:,0],clis[:,1],c=ws)\n",
    "    plt.scatter(clis[:,0],clis[:,1], c='C2')\n",
    "    \n",
    "    \n",
    "    \n",
    "    ax = plt.gca()\n",
    "    ax.axis('equal')\n",
    "#     ax.tick_params(axis='both',left=False, top=False, right=False,\n",
    "#                        bottom=False, labelleft=False, labeltop=False,\n",
    "#                        labelright=False, labelbottom=False)"
   ]
  },
  {
   "cell_type": "code",
   "execution_count": 6,
   "id": "79edf3c5",
   "metadata": {},
   "outputs": [],
   "source": [
    "# idx_clis = c\n",
    "# len([ci[1] for ci in idx_clis])"
   ]
  },
  {
   "cell_type": "code",
   "execution_count": 18,
   "id": "d8c6abba",
   "metadata": {},
   "outputs": [
    {
     "data": {
      "image/png": "[encoded data removed]",
      "text/plain": [
       "<Figure size 576x576 with 1 Axes>"
      ]
     },
     "metadata": {
      "needs_background": "light"
     },
     "output_type": "display_data"
    }
   ],
   "source": [
    "nf, nop, ip, noc, c, r, f = generate_problem(100, 20, 2, 70)\n",
    "# print(nf, nop, ip, noc, c, r, f)\n",
    "printf(f, ip, c)"
   ]
  },
  {
   "cell_type": "markdown",
   "id": "35aca418",
   "metadata": {},
   "source": [
    "---"
   ]
  },
  {
   "cell_type": "code",
   "execution_count": null,
   "id": "3d3af900",
   "metadata": {},
   "outputs": [],
   "source": []
  }
 ],
 "metadata": {
  "kernelspec": {
   "display_name": "Python 3",
   "language": "python",
   "name": "python3"
  },
  "language_info": {
   "codemirror_mode": {
    "name": "ipython",
    "version": 3
   },
   "file_extension": ".py",
   "mimetype": "text/x-python",
   "name": "python",
   "nbconvert_exporter": "python",
   "pygments_lexer": "ipython3",
   "version": "3.7.2"
  }
 },
 "nbformat": 4,
 "nbformat_minor": 5
}
